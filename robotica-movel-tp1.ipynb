{
 "cells": [
  {
   "cell_type": "code",
   "execution_count": 1,
   "id": "1c54871c",
   "metadata": {},
   "outputs": [],
   "source": [
    "import time\n",
    "import math\n",
    "import random\n",
    "import numpy as np\n",
    "import matplotlib.pyplot as plt\n",
    "from coppeliasim_zmqremoteapi_client import RemoteAPIClient"
   ]
  },
  {
   "cell_type": "code",
   "execution_count": null,
   "id": "ecd60ed6",
   "metadata": {},
   "outputs": [],
   "source": [
    "client = RemoteAPIClient()\n",
    "sim = client.require('sim')"
   ]
  },
  {
   "cell_type": "code",
   "execution_count": null,
   "id": "95590728",
   "metadata": {},
   "outputs": [],
   "source": [
    "def Rx(rad:float) -> np.ndarray:\n",
    "    \"\"\"\n",
    "    Função destinada a retornar a matriz de rotação em X\n",
    "    :param: graus em radianos\n",
    "    :return: a matriz de rotação\n",
    "    \"\"\"\n",
    "    c = np.cos(rad)\n",
    "    s = np.sin(rad)\n",
    "    return np.array([[ 1 , 0 , 0 ],\n",
    "                     [ 0 , c ,-s ],\n",
    "                     [ 0 , s , c ]])\n",
    "\n",
    "def Ry(rad:float) -> np.ndarray:\n",
    "    \"\"\"\n",
    "    Função destinada a retornar a matriz de rotação em Y\n",
    "    :param: graus em radianos\n",
    "    :return: a matriz de rotação\n",
    "    \"\"\"\n",
    "    c = np.cos(rad)\n",
    "    s = np.sin(rad)\n",
    "    return np.array([[ c , 0 , s ],\n",
    "                     [ 0 , 1 , 0 ],\n",
    "                     [-s , 0 , c ]])\n",
    "\n",
    "def Rz(rad:float) -> np.ndarray:\n",
    "    \"\"\"\n",
    "    Função destinada a retornar a matriz de rotação em Z\n",
    "    :param: graus em radianos\n",
    "    :return: a matriz de rotação\n",
    "    \"\"\"    \n",
    "    c = np.cos(rad)\n",
    "    s = np.sin(rad)\n",
    "    return np.array([[ c ,-s , 0 ],\n",
    "                     [ s , c , 0 ],\n",
    "                     [ 0 , 0 , 1 ]])\n",
    "\n",
    "def fullRotationMatrix(radX:float, radY:float, radZ:float) -> np.ndarray:\n",
    "    \"\"\"\n",
    "    Função destinada a retornar a matriz de rotação em todos os eixos\n",
    "    :param radX: graus em radianos no eixo X\n",
    "    :param radY: graus em radianos no eixo Y\n",
    "    :param radZ: graus em radianos no eixo Z\n",
    "    :return: matriz de rotação em todos os eixos\n",
    "    \"\"\"\n",
    "    return Rz(radZ) @ Ry(radY) @ Rx(radX)"
   ]
  },
  {
   "cell_type": "code",
   "execution_count": null,
   "id": "92a2dbaf",
   "metadata": {},
   "outputs": [],
   "source": [
    "def buildHomogeneousMatrix(rotationMatrix:np.ndarray, translationMatrix:np.ndarray) -> np.ndarray:\n",
    "    \"\"\"\n",
    "    Função destinada a montar a matriz de tranformação homogenea\n",
    "    :param rotationMatrix: matriz de rotação\n",
    "    :param translationMatrix: matriz de translação\n",
    "    :return: retorna a matriz de transformação homogênea\n",
    "    \"\"\"\n",
    "    upperRows = np.concatenate([rotationMatrix, translationMatrix], axis = 1)\n",
    "    lowerRow = np.array([[0, 0, 0, 1]])\n",
    "    \n",
    "    return np.concatenate([upperRows, lowerRow], axis = 0)"
   ]
  },
  {
   "cell_type": "markdown",
   "id": "29b77511",
   "metadata": {},
   "source": [
    "# Q.1"
   ]
  },
  {
   "cell_type": "markdown",
   "id": "66273f97",
   "metadata": {},
   "source": [
    "Reposta na cena"
   ]
  },
  {
   "cell_type": "markdown",
   "id": "2b3d6a78",
   "metadata": {},
   "source": [
    "# Q.2"
   ]
  },
  {
   "cell_type": "code",
   "execution_count": null,
   "id": "479a3663",
   "metadata": {},
   "outputs": [],
   "source": [
    "def calculateReferance(referentialObjectPath:str, otherObjectPath:str) -> np.ndarray:\n",
    "    \"\"\"\n",
    "    Função destinada a calcular a posição de otherObject em relação a referentialObject\n",
    "    :param referentialObjectPath: caminho para o objeto que será usado como referencial\n",
    "    :param otherObjectPath: caminho para o objeto que será colocado sobre um novo referencial\n",
    "    :return: a matriz de posição segundo o objeto de referência\n",
    "    \"\"\"\n",
    "    referentialObject = sim.getObject(referentialObjectPath)\n",
    "    otherObject = sim.getObject(otherObjectPath)\n",
    "\n",
    "    refObjPos = np.array([sim.getObjectPosition(referentialObject)])\n",
    "    refObjOrient = sim.getObjectOrientation(referentialObject)\n",
    "\n",
    "    otherObjPos = np.array([sim.getObjectPosition(otherObject)])\n",
    "\n",
    "    rotationMatrix = fullRotationMatrix(refObjOrient[0], refObjOrient[1], refObjOrient[2]).T\n",
    "    \n",
    "    translationMatrix = rotationMatrix @ -refObjPos.T\n",
    "\n",
    "    homoMatrix = buildHomogeneousMatrix(rotationMatrix, translationMatrix)\n",
    "    otherObjPos = np.concatenate([otherObjPos, np.array([[1]])], axis = 1)\n",
    "\n",
    "    return homoMatrix @ otherObjPos.T"
   ]
  },
  {
   "cell_type": "code",
   "execution_count": null,
   "id": "1ced90cf",
   "metadata": {},
   "outputs": [
    {
     "data": {
      "text/plain": [
       "array([[ 1.675     ],\n",
       "       [-1.3000013 ],\n",
       "       [-0.13879307],\n",
       "       [ 1.        ]])"
      ]
     },
     "metadata": {},
     "output_type": "display_data"
    }
   ],
   "source": [
    "calculateReferance('/PioneerP3DX','/Bill')"
   ]
  },
  {
   "cell_type": "code",
   "execution_count": null,
   "id": "cd18e7bf",
   "metadata": {},
   "outputs": [],
   "source": []
  },
  {
   "cell_type": "markdown",
   "id": "755ab24c",
   "metadata": {},
   "source": [
    "# Q.3"
   ]
  },
  {
   "cell_type": "code",
   "execution_count": null,
   "id": "8fd6c97a",
   "metadata": {},
   "outputs": [],
   "source": [
    "def calculateReferances(referentialObjectPath:str, otherObjectsPaths:list) -> list:\n",
    "    \"\"\"\n",
    "    Função destinada a calcular a posição varios objetos sobre um novo referencial\n",
    "    :param referentialObjectPath: caminho para o objeto que será usado como referencial\n",
    "    :param otherObjectsPaths: lista de caminho para objetos que serão colocados sobre um novo referencial\n",
    "    :return: uma lista de tuplas (caminho do objeto e a matriz de posição sobre novo referencial)\n",
    "    \"\"\"\n",
    "    return [(otherObject, calculateReferance(referentialObjectPath, otherObject)) \n",
    "            for otherObject in otherObjectsPaths]\n",
    "\n",
    "def plot2DView(objectsPositions:list, objectsNames:list = None, colors:list = ['r', 'b', 'g', 'm', 'k']) -> None:\n",
    "    \"\"\"\n",
    "    Função destinada a plotar um gráfico visto de cima da posição dos objetos\n",
    "    :param objectsPositions: uma lista de \n",
    "    \"\"\"\n",
    "\n",
    "    fig = plt.figure()\n",
    "    ax = fig.add_subplot(1, 1, 1)\n",
    "\n",
    "    if objectsNames:\n",
    "        for position, name, color in zip(objectsPositions, objectsNames, colors):\n",
    "            ax.plot(position[0], position[1], 'o', color = color, label = name)\n",
    "\n",
    "    else:\n",
    "        for position, color in zip(objectsPositions, colors):\n",
    "            ax.plot(position[0], position[1], 'o', color = color)\n",
    "    \n",
    "    ax.axis((-7, 7, -7, 7))\n",
    "\n",
    "    # Move left y-axis and bottom x-axis to centre, passing through (0,0)\n",
    "    ax.spines['left'].set_position('center')\n",
    "    ax.spines['bottom'].set_position('center')\n",
    "\n",
    "    # Eliminate upper and right axes\n",
    "    ax.spines['right'].set_color('none')\n",
    "    ax.spines['top'].set_color('none')\n",
    "\n",
    "    # Show ticks in the left and lower axes only\n",
    "    ax.xaxis.set_ticks_position('bottom')\n",
    "    ax.yaxis.set_ticks_position('left')\n",
    "\n",
    "    if objectsNames:\n",
    "        plt.legend(bbox_to_anchor =(0.75, 1.15), ncol = 2)\n",
    "    plt.show()"
   ]
  },
  {
   "cell_type": "code",
   "execution_count": null,
   "id": "7116c43c",
   "metadata": {},
   "outputs": [
    {
     "data": {
      "image/png": "[encoded data removed]",
      "text/plain": [
       "<Figure size 640x480 with 1 Axes>"
      ]
     },
     "metadata": {},
     "output_type": "display_data"
    }
   ],
   "source": [
    "otherObjects = ['/diningChair', '/customizableTable', '/cupboard', '/Bill', '/indoorPlant']\n",
    "robotName = '/PioneerP3DX'\n",
    "robotRef = calculateReferances(robotName, otherObjects)\n",
    "plot2DView([otherObject[1] for otherObject in robotRef], [otherObject[0] for otherObject in robotRef])"
   ]
  },
  {
   "cell_type": "markdown",
   "id": "4a962bf1",
   "metadata": {},
   "source": [
    "# Q.4"
   ]
  },
  {
   "cell_type": "code",
   "execution_count": null,
   "id": "63bf7a49",
   "metadata": {},
   "outputs": [
    {
     "name": "stdout",
     "output_type": "stream",
     "text": [
      "X: 1.576 Y: -0.564 theta: 2\n"
     ]
    },
    {
     "data": {
      "image/png": "[encoded data removed]",
      "text/plain": [
       "<Figure size 640x480 with 1 Axes>"
      ]
     },
     "metadata": {},
     "output_type": "display_data"
    }
   ],
   "source": [
    "robot = sim.getObject(robotName)\n",
    "\n",
    "x = 1.576\n",
    "y = -.564\n",
    "theta = 2\n",
    "\n",
    "sim.setObjectPosition(robot, [x, y, 0.13879307])\n",
    "sim.setObjectOrientation(robot, [.0, .0, theta])\n",
    "\n",
    "print('X:', x, 'Y:', y, 'theta:', theta)\n",
    "\n",
    "robotRef = calculateReferances(robotName, otherObjects)\n",
    "plot2DView([otherObject[1] for otherObject in robotRef], [otherObject[0] for otherObject in robotRef])"
   ]
  },
  {
   "cell_type": "code",
   "execution_count": null,
   "id": "555589c7",
   "metadata": {},
   "outputs": [
    {
     "name": "stdout",
     "output_type": "stream",
     "text": [
      "X: -1.576 Y: 2.12 theta: -3.6\n"
     ]
    },
    {
     "data": {
      "image/png": "[encoded data removed]",
      "text/plain": [
       "<Figure size 640x480 with 1 Axes>"
      ]
     },
     "metadata": {},
     "output_type": "display_data"
    }
   ],
   "source": [
    "x = -1.576\n",
    "y = 2.12\n",
    "theta = -3.6\n",
    "\n",
    "sim.setObjectPosition(robot, [x, y, 0.13879307])\n",
    "sim.setObjectOrientation(robot, [.0, .0, theta])\n",
    "\n",
    "print('X:', x, 'Y:', y, 'theta:', theta)\n",
    "\n",
    "robotRef = calculateReferances(robotName, otherObjects)\n",
    "plot2DView([otherObject[1] for otherObject in robotRef], [otherObject[0] for otherObject in robotRef])"
   ]
  },
  {
   "cell_type": "code",
   "execution_count": null,
   "id": "0bbe7827",
   "metadata": {},
   "outputs": [
    {
     "name": "stdout",
     "output_type": "stream",
     "text": [
      "X: 0 Y: 0 theta: 1.9\n"
     ]
    },
    {
     "data": {
      "image/png": "[encoded data removed]",
      "text/plain": [
       "<Figure size 640x480 with 1 Axes>"
      ]
     },
     "metadata": {},
     "output_type": "display_data"
    }
   ],
   "source": [
    "x = 0\n",
    "y = 0\n",
    "theta = 1.9\n",
    "\n",
    "sim.setObjectPosition(robot, [x, y, 0.13879307])\n",
    "sim.setObjectOrientation(robot, [.0, .0, theta])\n",
    "\n",
    "print('X:', x, 'Y:', y, 'theta:', theta)\n",
    "\n",
    "robotRef = calculateReferances(robotName, otherObjects)\n",
    "plot2DView([otherObject[1] for otherObject in robotRef], [otherObject[0] for otherObject in robotRef])"
   ]
  },
  {
   "cell_type": "code",
   "execution_count": null,
   "id": "fef7192c",
   "metadata": {},
   "outputs": [],
   "source": [
    "robot = sim.getObject(robotName)\n",
    "\n",
    "x = 0\n",
    "y = 0\n",
    "theta = 0\n",
    "\n",
    "sim.setObjectPosition(robot, [x, y, 0.13879307])\n",
    "sim.setObjectOrientation(robot, [.0, .0, theta])"
   ]
  },
  {
   "cell_type": "markdown",
   "id": "0a226733",
   "metadata": {},
   "source": [
    "# Q.5"
   ]
  },
  {
   "cell_type": "code",
   "execution_count": null,
   "id": "a6639ab3",
   "metadata": {},
   "outputs": [],
   "source": []
  },
  {
   "cell_type": "markdown",
   "id": "d1ab7c03",
   "metadata": {},
   "source": [
    "# Q.6"
   ]
  },
  {
   "cell_type": "code",
   "execution_count": 2,
   "id": "3af2af74-4c79-4bbf-bd4e-159a02fe1af4",
   "metadata": {},
   "outputs": [],
   "source": [
    "'''\n",
    "readSensorData - It will try to capture the range and angle data from the simulator.\n",
    "                 The request for the range data is sent in streaming mode to force\n",
    "                 it to sync with the angle data request which acts as a mutex.\n",
    "\n",
    "inputs:\n",
    "    -clientId: simulator client id obtained through a successfull connection with the simulator.\n",
    "    -range_data_signal_id: string containing the range data signal pipe name.\n",
    "    -angle_data_signal_id: string containing the angle data signal pipe name.\n",
    "outputs:\n",
    "    -returns None if no data is recovered.\n",
    "    -returns two arrays, one with data range and the other with their angles, if data was \n",
    "    retrieved successfully.\n",
    "'''\n",
    "def readSensorData(clientId=-1, \n",
    "                    range_data_signal_id=\"hokuyo_range_data\", \n",
    "                    angle_data_signal_id=\"hokuyo_angle_data\"):\n",
    "\n",
    "    # the first call should be non-blocking to avoid getting out-of-sync angle data\n",
    "    returnCodeRanges, string_range_data = sim.simxGetStringSignal(clientId, range_data_signal_id, sim.simx_opmode_streaming)\n",
    "\n",
    "    # the second call should block to avoid out-of-sync scenarios\n",
    "    # between your python script and the simulator's main loop\n",
    "    # (your script may be slower than the simulator's main loop, thus\n",
    "    # slowing down data processing)\n",
    "    returnCodeAngles, string_angle_data = sim.simxGetStringSignal(clientId, angle_data_signal_id, sim.simx_opmode_blocking)\n",
    "\n",
    "    # check the if both data were obtained correctly\n",
    "    if returnCodeRanges == 0 and returnCodeAngles == 0:\n",
    "        # unpack data from range and sensor messages\n",
    "        raw_range_data = sim.simxUnpackFloats(string_range_data)\n",
    "        raw_angle_data = sim.simxUnpackFloats(string_angle_data)\n",
    "\n",
    "        return raw_range_data, raw_angle_data\n",
    "\n",
    "    # return none in case were nothing was gotten from the simulator\n",
    "    return None\n",
    "\n",
    "\n",
    "def draw_laser_data(laser_data, max_sensor_range=5):\n",
    "    \n",
    "    fig = plt.figure(figsize=(6,6), dpi=100)\n",
    "    ax = fig.add_subplot(111, aspect='equal')\n",
    "        \n",
    "    for i in range(len(laser_data)):\n",
    "        ang, dist = laser_data[i]\n",
    "        \n",
    "        # Quando o feixe não acerta nada, retorna o valor máximo (definido na simulação)\n",
    "        # Logo, usar um pequeno limiar do máximo para considerar a leitura\n",
    "        if (max_sensor_range - dist) > 0.1:\n",
    "            x = dist * np.cos(ang)\n",
    "            y = dist * np.sin(ang)\n",
    "            c = 'r'\n",
    "            if ang < 0:    \n",
    "                c = 'b'\n",
    "            ax.plot(x, y, 'o', color=c)\n",
    "\n",
    "    ax.plot(0, 0, 'k>', markersize=10)\n",
    "        \n",
    "    ax.grid()\n",
    "    ax.set_xlim([-max_sensor_range, max_sensor_range])\n",
    "    ax.set_ylim([-max_sensor_range, max_sensor_range])"
   ]
  },
  {
   "cell_type": "code",
   "execution_count": 6,
   "id": "4cd38e22-5392-47d3-8074-fe83cf6259ec",
   "metadata": {},
   "outputs": [
    {
     "name": "stdout",
     "output_type": "stream",
     "text": [
      "Program started\n",
      "Connected to remote API server\n",
      "[[-1.57079637  4.9994998 ]\n",
      " [-1.56785512  4.9994998 ]\n",
      " [-1.5648967   4.9994998 ]\n",
      " ...\n",
      " [ 1.5648967   4.9994998 ]\n",
      " [ 1.56785512  4.9994998 ]\n",
      " [ 1.57079637  4.9994998 ]]\n",
      "Pos:  [-2.2887346744537354, 2.4651830196380615, 2.790874719619751]\n",
      "Program ended\n"
     ]
    },
    {
     "data": {
      "image/png": "[encoded data removed]",
      "text/plain": [
       "<Figure size 600x600 with 1 Axes>"
      ]
     },
     "metadata": {},
     "output_type": "display_data"
    }
   ],
   "source": [
    "####################################################################################\n",
    "#                                                                                  #\n",
    "#                 LEMBRE-SE QUE A SIMULAÇÃO DEVE ESTAR EM EXECUÇÃO!                #\n",
    "#                                                                                  #\n",
    "####################################################################################\n",
    "\n",
    "print ('Program started')\n",
    "sim.simxFinish(-1) # just in case, close all opened connections\n",
    "clientID=sim.simxStart('127.0.0.1',19999,True,True,5000,5) # Connect to CoppeliaSim\n",
    "\n",
    "if clientID!=-1:\n",
    "    print ('Connected to remote API server')\n",
    "    \n",
    "    # Iniciando a simulação\n",
    "    # Deve usar a porta do 'continuous remote API server services' (remoteApiConnections.txt)\n",
    "    # e = sim.simxStartSimulation(clientID,sim.simx_opmode_blocking)\n",
    "\n",
    "    # Handle para o ROBÔ    \n",
    "    robotname = 'Pioneer_p3dx'\n",
    "    returnCode, robotHandle = sim.simxGetObjectHandle(clientID, robotname, sim.simx_opmode_oneshot_wait)     \n",
    "    \n",
    "    # Handle para as juntas das RODAS\n",
    "    returnCode, l_wheel = sim.simxGetObjectHandle(clientID, robotname + '_leftMotor', sim.simx_opmode_oneshot_wait)\n",
    "    returnCode, r_wheel = sim.simxGetObjectHandle(clientID, robotname + '_rightMotor', sim.simx_opmode_oneshot_wait)    \n",
    "    \n",
    "    # Handle para os dados do LASER\n",
    "    laser_range_data = \"hokuyo_range_data\"\n",
    "    laser_angle_data = \"hokuyo_angle_data\"\n",
    "    \n",
    "    # Geralmente a primeira leitura é inválida (atenção ao Operation Mode)\n",
    "    # Em loop até garantir que as leituras serão válidas\n",
    "    returnCode = 1\n",
    "    while returnCode != 0:\n",
    "        returnCode, range_data = sim.simxGetStringSignal(clientID, laser_range_data, sim.simx_opmode_streaming + 10)\n",
    "    \n",
    "    # Prosseguindo com as leituras\n",
    "    raw_range_data, raw_angle_data = readSensorData(clientID, laser_range_data, laser_angle_data)\n",
    "    laser_data = np.array([raw_angle_data, raw_range_data]).T\n",
    "    \n",
    "    print(laser_data)\n",
    "    draw_laser_data(laser_data)\n",
    "    \n",
    "    returnCode, pos = sim.simxGetObjectPosition(clientID, robotHandle, -1, sim.simx_opmode_oneshot_wait)        \n",
    "    print('Pos: ', pos)\n",
    "    \n",
    "    #raise SystemExit()\n",
    "    \n",
    "    # Dados do Pioneer\n",
    "    L = 0.381   # Metros\n",
    "    r = 0.0975  # Metros\n",
    "\n",
    "    t = 0\n",
    "    # Lembrar de habilitar o 'Real-time mode'\n",
    "    startTime=time.time()\n",
    "    lastTime = startTime\n",
    "    while t < 10:\n",
    "        \n",
    "        now = time.time()\n",
    "        dt = now - lastTime\n",
    "    \n",
    "        # Fazendo leitura do laser   \n",
    "        raw_range_data, raw_angle_data = readSensorData(clientID, laser_range_data, laser_angle_data)\n",
    "        laser_data = np.array([raw_angle_data, raw_range_data]).T\n",
    "        \n",
    "        # Velocidade básica (linear, angular)\n",
    "        v = .5\n",
    "        w = np.deg2rad(0)      \n",
    "\n",
    "        frente = int(len(laser_data)/2)\n",
    "        lado_direito = int(len(laser_data)*1/4)\n",
    "        lado_esquerdo = int(len(laser_data)*3/4)\n",
    "        \n",
    "        if laser_data[frente, 1] > 2:\n",
    "            v = .5\n",
    "            w = 0\n",
    "        elif laser_data[lado_direito, 1] > 2:\n",
    "            v = 0\n",
    "            w = np.deg2rad(-30)\n",
    "        elif laser_data[lado_esquerdo, 1] > 2:\n",
    "            v = 0\n",
    "            w = np.deg2rad(30)\n",
    "        \n",
    "        # Isso é o modelo cinemático, estudaremos detalhadamente depois!\n",
    "        wl = v/r - (w*L)/(2*r)\n",
    "        wr = v/r + (w*L)/(2*r)\n",
    "        \n",
    "        # Enviando velocidades\n",
    "        sim.simxSetJointTargetVelocity(clientID, l_wheel, wl, sim.simx_opmode_streaming + 5)\n",
    "        sim.simxSetJointTargetVelocity(clientID, r_wheel, wr, sim.simx_opmode_streaming + 5)        \n",
    "    \n",
    "        t = t + dt  \n",
    "        lastTime = now\n",
    "\n",
    "    # Parando o robô    \n",
    "    sim.simxSetJointTargetVelocity(clientID, r_wheel, 0, sim.simx_opmode_oneshot_wait)\n",
    "    sim.simxSetJointTargetVelocity(clientID, l_wheel, 0, sim.simx_opmode_oneshot_wait)        \n",
    "       \n",
    "    # Parando a simulação     \n",
    "    sim.simxStopSimulation(clientID,sim.simx_opmode_blocking)         \n",
    "        \n",
    "    # Now close the connection to CoppeliaSim:\n",
    "    sim.simxFinish(clientID)\n",
    "    \n",
    "else:\n",
    "    print ('Failed connecting to remote API server')\n",
    "    \n",
    "print ('Program ended')"
   ]
  },
  {
   "cell_type": "code",
   "execution_count": null,
   "id": "e50a18d2-63db-4b8a-80f8-a73e256b3592",
   "metadata": {},
   "outputs": [],
   "source": []
  }
 ],
 "metadata": {
  "kernelspec": {
   "display_name": "Python 3 (ipykernel)",
   "language": "python",
   "name": "python3"
  },
  "language_info": {
   "codemirror_mode": {
    "name": "ipython",
    "version": 3
   },
   "file_extension": ".py",
   "mimetype": "text/x-python",
   "name": "python",
   "nbconvert_exporter": "python",
   "pygments_lexer": "ipython3",
   "version": "3.10.12"
  }
 },
 "nbformat": 4,
 "nbformat_minor": 5
}
