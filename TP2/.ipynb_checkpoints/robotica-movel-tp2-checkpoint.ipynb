{
 "cells": [
  {
   "cell_type": "code",
   "execution_count": null,
   "metadata": {},
   "outputs": [],
   "source": [
    "import time\n",
    "import numpy as np\n",
    "import matplotlib.pyplot as plt\n",
    "import matplotlib.image as mpimg\n",
    "import networkx as nx\n",
    "\n",
    "from coppeliasim_zmqremoteapi_client import RemoteAPIClient"
   ]
  },
  {
   "cell_type": "code",
   "execution_count": null,
   "metadata": {},
   "outputs": [],
   "source": [
    "client = RemoteAPIClient()\n",
    "sim = client.require('sim')"
   ]
  },
  {
   "cell_type": "code",
   "execution_count": null,
   "metadata": {},
   "outputs": [],
   "source": [
    "def Rz(theta):\n",
    "    return np.array([[ np.cos(theta), -np.sin(theta), 0 ],\n",
    "                     [ np.sin(theta), np.cos(theta) , 0 ],\n",
    "                     [ 0            , 0             , 1 ]])"
   ]
  },
  {
   "cell_type": "markdown",
   "metadata": {},
   "source": [
    "# Roadmap"
   ]
  },
  {
   "cell_type": "code",
   "execution_count": null,
   "metadata": {},
   "outputs": [],
   "source": [
    "robot_name = '/robotino'\n",
    "goal_name = '/Goal'"
   ]
  },
  {
   "cell_type": "code",
   "execution_count": null,
   "metadata": {},
   "outputs": [],
   "source": [
    "def calculateGlobalReferance(x: str, y: str):\n",
    "    \"\"\"\n",
    "    Função destinada a transformar a coordenada do RoadMap em uma coordenada no referencial global\n",
    "    :param x: posição x na coordenada do RoadMap\n",
    "    :param y: posição y na coordenada do RoadMap\n",
    "    :return: retorna a posição em relação ao referencial global\n",
    "    \"\"\"\n",
    "    pb = np.array([x, y, 0, 1])\n",
    "    pa_borg = np.array([-(x_size/2), -(y_size/2), 0])\n",
    "    Rab = Rz(0)\n",
    "    \n",
    "    # Concatena o vetor origem ao final (coluna)\n",
    "    Tab = np.column_stack((Rab, pa_borg))\n",
    "    \n",
    "    # Concatena o vetor auxiliar embaixo (linha)\n",
    "    aux = np.array([0, 0, 0, 1])\n",
    "    Tab = np.row_stack((Tab, aux))\n",
    "    \n",
    "    return Tab @ pb"
   ]
  },
  {
   "cell_type": "code",
   "execution_count": null,
   "metadata": {},
   "outputs": [],
   "source": [
    "def setObjectPosition(obj_handle, position):\n",
    "    obj_position = sim.getObjectPosition(obj_handle)     \n",
    "    sim.setObjectPosition(obj_handle, [position[0], position[1], obj_position[2]])\n",
    "\n",
    "def setRobotPosition(node):\n",
    "    robot_handle = sim.getObject(robot_name)\n",
    "    \n",
    "    node_pos = pos[node]\n",
    "    robot_start_pos = calculateGlobalReferance(node_pos[0], node_pos[1])\n",
    "\n",
    "    setObjectPosition(robot_handle, robot_start_pos)\n",
    "\n",
    "def setGoalPosition(node):\n",
    "    goal_handle = sim.getObject(goal_name)\n",
    "    \n",
    "    node_pos = pos[end_node]\n",
    "    goal_pos = calculateGlobalReferance(node_pos[0], node_pos[1])\n",
    "    \n",
    "    setObjectPosition(goal_handle, goal_pos)"
   ]
  },
  {
   "cell_type": "code",
   "execution_count": null,
   "metadata": {},
   "outputs": [],
   "source": [
    "def clearInlineDots(path):\n",
    "    for i in range(len(path)-1):\n",
    "        a = 2\n",
    "        while (((path[i][0] == path[i+a][0]) or (path[i][1] == path[i+a][1]))):\n",
    "            new_path = list(path)\n",
    "            new_path.pop(i+a-1)\n",
    "            path = tuple(new_path)\n",
    "            if(i+a >= len(path) - 1): break\n",
    "    \n",
    "        if (i+a >= len(path)-1): break\n",
    "\n",
    "    return path"
   ]
  },
  {
   "cell_type": "markdown",
   "metadata": {},
   "source": [
    "### Scene Config\n",
    "\n",
    "Escolha as configs de acordo com a cena que está sendo rodade"
   ]
  },
  {
   "cell_type": "code",
   "execution_count": null,
   "metadata": {},
   "outputs": [],
   "source": [
    "# Mapa\n",
    "# img_path = 'img/mapa.png'\n",
    "\n",
    "# x_size = 25\n",
    "# y_size = 25\n",
    "\n",
    "# start_node =  (22, 5)\n",
    "# end_node = (22, 22)\n",
    "\n",
    "# Mapa Hard\n",
    "img_path = 'img/hard.png'\n",
    "\n",
    "x_size = 50\n",
    "y_size = 50\n",
    "\n",
    "start_node =  (46, 4)\n",
    "end_node = (5, 5)"
   ]
  },
  {
   "cell_type": "markdown",
   "metadata": {},
   "source": [
    "### Set object positions\n",
    "\n",
    "Seta posições do robo e do reference frame que representa o goal, de acordo com os nós escolhidos"
   ]
  },
  {
   "cell_type": "code",
   "execution_count": null,
   "metadata": {},
   "outputs": [],
   "source": [
    "setRobotPosition(start_node)\n",
    "setGoalPosition(end_node)"
   ]
  },
  {
   "cell_type": "markdown",
   "metadata": {},
   "source": [
    "### Open image"
   ]
  },
  {
   "cell_type": "code",
   "execution_count": null,
   "metadata": {},
   "outputs": [],
   "source": [
    "fig = plt.figure(figsize=(8,8), dpi=100)\n",
    "ax = fig.add_subplot(111, aspect='equal')\n",
    "\n",
    "# Invertendo os valores para visualização (Branco - 0, Preto - 1)\n",
    "img = 1 - mpimg.imread(img_path)\n",
    "\n",
    "# Apenas para garantir que só teremos esses dois valores\n",
    "threshold = 0.01\n",
    "img[img >= threshold] = 1\n",
    "img[img < threshold] = 0\n",
    "\n",
    "ax.imshow(img, cmap='Greys', origin='upper')"
   ]
  },
  {
   "cell_type": "markdown",
   "metadata": {},
   "source": [
    "### Traça linhas do Grid"
   ]
  },
  {
   "cell_type": "code",
   "execution_count": null,
   "metadata": {},
   "outputs": [],
   "source": [
    "# Dimensões do mapa informado em metros (X, Y)\n",
    "map_dims = np.array([x_size, y_size])\n",
    "\n",
    "# Escala Pixel/Metro\n",
    "sy, sx = img.shape / map_dims\n",
    "\n",
    "# Tamanho da célula do nosso Grid (em metros)\n",
    "cell_size = 1\n",
    "\n",
    "rows, cols = (map_dims / cell_size).astype(int)\n",
    "grid = np.zeros((rows, cols))\n",
    "\n",
    "# Preenchendo o Grid\n",
    "# Cada célula recebe o somatório dos valores dos Pixels\n",
    "for r in range(rows):\n",
    "    for c in range(cols):\n",
    "        \n",
    "        xi = int(c*cell_size*sx)\n",
    "        xf = int(xi + cell_size*sx)\n",
    "        \n",
    "        yi = int(r*cell_size*sy)\n",
    "        yf = int(yi + cell_size*sy)\n",
    "                      \n",
    "        grid[r, c] = np.sum(img[yi:yf,xi:xf])\n",
    "        \n",
    "# Binarizando as células como Ocupadas (1) ou Não-ocupadas (0)       \n",
    "grid[grid >= threshold] = 1\n",
    "grid[grid <= threshold] = 0        \n",
    "\n",
    "fig = plt.figure(figsize=(8,8), dpi=100)\n",
    "ax = fig.add_subplot(111, aspect='equal')\n",
    "\n",
    "# Plotando Mapa e Células\n",
    "obj = ax.imshow(img, cmap='Greys', extent=(0, map_dims[1], 0, map_dims[0]), origin='upper')\n",
    "obj = ax.imshow(grid, cmap='Reds', extent=(0, map_dims[1], 0, map_dims[0]), alpha=.6)\n",
    "\n",
    "# Plotando as linhas do grid para facilitar a visualização\n",
    "ax.grid(which='major', axis='both', linestyle='-', color='r', linewidth=1)\n",
    "ax.set_xticks(np.arange(0, map_dims[1]+1, cell_size))\n",
    "ax.set_yticks(np.arange(0, map_dims[0]+1, cell_size))\n"
   ]
  },
  {
   "cell_type": "markdown",
   "metadata": {},
   "source": [
    "### Criando o Grafo para o nosso Grid"
   ]
  },
  {
   "cell_type": "code",
   "execution_count": 763,
   "metadata": {},
   "outputs": [
    {
     "data": {
      "image/png": "[encoded data removed]",
      "text/plain": [
       "<Figure size 800x800 with 1 Axes>"
      ]
     },
     "metadata": {},
     "output_type": "display_data"
    }
   ],
   "source": [
    "# Criando vértices em todas as células\n",
    "G = nx.grid_2d_graph(rows, cols) \n",
    "\n",
    "# Removendo células que estão em células marcas com obstáculos\n",
    "for r in range(rows):\n",
    "    for c in range(cols):\n",
    "        if grid[r][c] == 1:  \n",
    "            G.remove_node((r,c))\n",
    "\n",
    "\n",
    "fig = plt.figure(figsize=(8,8), dpi=100)\n",
    "ax = fig.add_subplot(111, aspect='equal')\n",
    "\n",
    "# Grid\n",
    "obj = ax.imshow(grid, cmap='Greys', extent=(0, map_dims[1], 0, map_dims[0]))\n",
    "\n",
    "ax.grid(which='major', axis='both', linestyle='-', color='r', linewidth=1)\n",
    "ax.set_xticks(np.arange(0, map_dims[1]+1, cell_size))\n",
    "ax.set_yticks(np.arange(0, map_dims[0]+1, cell_size))\n",
    "\n",
    "# Os vértices serão plotados no centro da célula  \n",
    "pos = {node:(node[1]*cell_size+cell_size/2, map_dims[0]-node[0]*cell_size-cell_size/2) for node in G.nodes()}\n",
    "nx.draw(G, pos, font_size=3, with_labels=True, node_size=50, node_color=\"g\", ax=ax)"
   ]
  },
  {
   "cell_type": "markdown",
   "metadata": {},
   "source": [
    "### Determinar o menor caminho entre duas células"
   ]
  },
  {
   "cell_type": "code",
   "execution_count": 764,
   "metadata": {},
   "outputs": [
    {
     "data": {
      "text/plain": [
       "<matplotlib.collections.PathCollection at 0x187511d5b10>"
      ]
     },
     "execution_count": 764,
     "metadata": {},
     "output_type": "execute_result"
    },
    {
     "data": {
      "image/png": "[encoded data removed]",
      "text/plain": [
       "<Figure size 800x800 with 1 Axes>"
      ]
     },
     "metadata": {},
     "output_type": "display_data"
    }
   ],
   "source": [
    "fig = plt.figure(figsize=(8,8), dpi=100)\n",
    "ax = fig.add_subplot(111, aspect='equal')\n",
    "\n",
    "# Mapa\n",
    "obj = ax.imshow(grid, cmap='Greys', extent=(0, map_dims[1], 0,map_dims[0]))\n",
    "\n",
    "# Caminho\n",
    "path = nx.shortest_path(G, source=start_node, target=end_node)\n",
    "nx.draw_networkx_nodes(G, pos, nodelist=path, node_size=100, node_color='b')"
   ]
  },
  {
   "cell_type": "code",
   "execution_count": 765,
   "metadata": {},
   "outputs": [],
   "source": [
    "# Remove pontos que fazem parte de uma linha\n",
    "path = clearInlineDots(path)\n",
    "\n",
    "# Calcula posição do ponto no referencial global\n",
    "global_pos = []\n",
    "\n",
    "for node in path:\n",
    "    position = pos[node]\n",
    "    new_pos = calculateGlobalReferance(position[0], position[1])\n",
    "    global_pos.append(np.array([new_pos[0], new_pos[1], np.deg2rad(0)]))"
   ]
  },
  {
   "cell_type": "markdown",
   "metadata": {},
   "source": [
    "### Executa simulação\n",
    "\n",
    "Começa a simulação e movimenta o robo sobre o caminho encontrado até o goal"
   ]
  },
  {
   "cell_type": "code",
   "execution_count": null,
   "metadata": {},
   "outputs": [],
   "source": [
    "sim.startSimulation()\n",
    "time.sleep(2)\n",
    "\n",
    "robotname = '/robotino'\n",
    "robotHandle = sim.getObject(robotname)     \n",
    "             \n",
    "wheel1 = sim.getObject('/wheel0_joint')\n",
    "wheel2 = sim.getObject('/wheel1_joint')\n",
    "wheel3 = sim.getObject('/wheel2_joint')\n",
    "           \n",
    "# Robotino\n",
    "L = 0.135   # Metros\n",
    "r = 0.040   # Metros\n",
    "           \n",
    "# Cinemática Direta\n",
    "Mdir = np.array([[-r/np.sqrt(3),         0, r/np.sqrt(3)],\n",
    "                 [          r/3,  (-2*r)/3,          r/3],\n",
    "                 [      r/(3*L),   r/(3*L),     r/(3*L)]])\n",
    "\n",
    "gain = np.array([[0.1, 0, 0],\n",
    "                 [0, 0.1, 0],\n",
    "                 [0, 0, 0.1]])\n",
    "\n",
    "for goal in global_pos:\n",
    "    while True:\n",
    "        pos = sim.getObjectPosition(robotHandle)        \n",
    "        ori = sim.getObjectOrientation(robotHandle)\n",
    "        q = np.array([pos[0], pos[1], ori[2]])\n",
    "        \n",
    "        error = goal - q\n",
    "        \n",
    "        # Margem aceitável de distância\n",
    "        if (np.linalg.norm(error[:2]) < 0.05):\n",
    "            break\n",
    "    \n",
    "        # Controller\n",
    "        qdot = (gain * 1/np.linalg.norm(error[:2])) @ error\n",
    "        \n",
    "        # Cinemática Inversa\n",
    "        # w1, w2, w3\n",
    "        Minv = np.linalg.inv(Rz(q[2]) @ Mdir)\n",
    "        u = Minv @ qdot\n",
    "    \n",
    "        # Enviando velocidades\n",
    "        sim.setJointTargetVelocity(wheel1, u[0])\n",
    "        sim.setJointTargetVelocity(wheel2, u[1])\n",
    "        sim.setJointTargetVelocity(wheel3, u[2])          \n",
    "               \n",
    "sim.setJointTargetVelocity(wheel1, 0)\n",
    "sim.setJointTargetVelocity(wheel2, 0)\n",
    "sim.setJointTargetVelocity(wheel3, 0)\n",
    "\n",
    "sim.stopSimulation()\n"
   ]
  },
  {
   "cell_type": "markdown",
   "metadata": {},
   "source": [
    "# Potential Fields"
   ]
  },
  {
   "cell_type": "code",
   "execution_count": 23,
   "metadata": {},
   "outputs": [],
   "source": [
    "def buildHomogeneousMatrix(rotationMatrix:np.ndarray, translationMatrix:np.ndarray) -> np.ndarray:\n",
    "    \"\"\"\n",
    "    Função destinada a montar a matriz de tranformação homogenea\n",
    "    :param rotationMatrix: matriz de rotação\n",
    "    :param translationMatrix: matriz de translação\n",
    "    :return: retorna a matriz de transformação homogênea\n",
    "    \"\"\"\n",
    "    upperRows = np.concatenate([rotationMatrix, translationMatrix], axis = 1)\n",
    "    lowerRow = np.array([[0, 0, 0, 1]])\n",
    "    \n",
    "    return np.concatenate([upperRows, lowerRow], axis = 0)\n",
    "\n",
    "def transform(robotPosition:np.ndarray, robotOrientation:np.ndarray, objectPosition:np.ndarray) -> np.ndarray:\n",
    "    \"\"\"\n",
    "    Função destinada a realizar a transformação de um ponto para o referencial do robô\n",
    "    :param robotPosition: vetor de posição do robô\n",
    "    :param robotOrientation: vetor de orientação do robô\n",
    "    :param objectPosition: vetor de posição do objeto\n",
    "    :return: vetor de posição do objeto sobre o referecial do robô\n",
    "    \"\"\"\n",
    "    rotation = Rz(robotOrientation[2]).T\n",
    "    translation = rotation @ -robotPosition.T\n",
    "\n",
    "    homoMatrix = buildHomogeneousMatrix(rotation, translation)\n",
    "    objectPosition = np.concatenate([objectPosition, np.array([[1]])], axis = 1)\n",
    "\n",
    "    return homoMatrix @ objectPosition.T\n",
    "\n",
    "def reverseTransform(robotPosition:np.ndarray, robotOrientation:np.ndarray, objectPosition:np.ndarray) -> np.ndarray:\n",
    "    \"\"\"\n",
    "    Função destinada a realizar a transformação de um ponto para o referencial do robô\n",
    "    :param robotPosition: vetor de posição do robô\n",
    "    :param robotOrientation: vetor de orientação do robô\n",
    "    :param objectPosition: vetor de posição do objeto\n",
    "    :return: vetor de posição do objeto sobre o referecial do robô\n",
    "    \"\"\"\n",
    "    rotation = Rz(robotOrientation[2])\n",
    "    translation = robotPosition.T\n",
    "\n",
    "    homoMatrix = buildHomogeneousMatrix(rotation, translation)\n",
    "    objectPosition = np.concatenate([objectPosition, np.array([[1]])], axis = 1)\n",
    "\n",
    "    return homoMatrix @ objectPosition.T\n",
    "\n",
    "def readSensorData(range_data_signal_id=\"hokuyo_range_data\", \n",
    "                    angle_data_signal_id=\"hokuyo_angle_data\"):\n",
    "\n",
    "    # the first call should be non-blocking to avoid getting out-of-sync angle data\n",
    "    string_range_data = sim.getStringSignal(range_data_signal_id)\n",
    "    string_angle_data = sim.getStringSignal(angle_data_signal_id)\n",
    "\n",
    "    # check the if both data were obtained correctly\n",
    "    if string_range_data and string_angle_data :\n",
    "        # unpack data from range and sensor messages\n",
    "        raw_range_data = np.array(sim.unpackFloatTable(string_range_data))\n",
    "        raw_angle_data = np.array(sim.unpackFloatTable(string_angle_data))\n",
    "\n",
    "        return raw_range_data, raw_angle_data\n",
    "\n",
    "    # return none in case were nothing was gotten from the simulator\n",
    "    return None, None\n",
    "\n",
    "def transformSensorData(dist:float, angle:float) -> tuple:\n",
    "    \"\"\"\n",
    "    Função destinada a transformar os dados retornados pelo sensor para coordenadas X, Y\n",
    "    :param dist: distância do objeto para o robô\n",
    "    :param angle: angûlo do objeto em relação ao robô\n",
    "    :return: as coordenadas X, Y de um objeto segundo o referencial do robô\n",
    "    \"\"\"\n",
    "    x = dist * np.cos(angle)\n",
    "    y = dist * np.sin(angle)\n",
    "    return x, y"
   ]
  },
  {
   "cell_type": "code",
   "execution_count": 24,
   "metadata": {},
   "outputs": [],
   "source": [
    "def attraction(goal:np.ndarray, katt:float=.01) -> np.ndarray:\n",
    "    \"\"\"\n",
    "    Função destinada a calcular a força de atração que está atuando sobre nosso robô\n",
    "    :param goal: posição do objetivo sob o referencial do robô (X, Y)\n",
    "    :param katt: constante de atração\n",
    "    :return: um vetor indicando a força de atração que atua sobre o robô\n",
    "    \"\"\"\n",
    "    return katt * goal\n",
    "\n",
    "def repulsion(obs:np.ndarray, theta:float, R:float=3, krep:float=.1) -> np.ndarray:\n",
    "    \"\"\"\n",
    "    Função destinada a calcular a força de repulsão que um obstáculo exerce robô\n",
    "    :param obs: posição do obstáculo sob o referencial do robô (X, Y, Theta)\n",
    "    :param R: ...........................................................................................\n",
    "    :param katt: constante de repulsão\n",
    "    :return: um vetor indicando a força de repulsão que o obstáculo exerce robô\n",
    "    \"\"\"\n",
    "    v = -obs\n",
    "    d = np.linalg.norm(v, axis=1) - theta\n",
    "    d = d.reshape((len(v) ,1))\n",
    "    \n",
    "    rep = (1/d**2)*((1/d)-(1/R))*(v/d)    \n",
    "    \n",
    "    invalid = np.squeeze(d > R)\n",
    "    rep[invalid, :] = 0\n",
    "    \n",
    "    return krep * rep"
   ]
  },
  {
   "cell_type": "code",
   "execution_count": 25,
   "metadata": {},
   "outputs": [],
   "source": [
    "def calcNonHolonomicVelocity(fx:float, fy:float, theta:float, \n",
    "                             maxv:float = 1, maxw:float = np.deg2rad(45),\n",
    "                             kr:float = 1, kt:float = 2) -> tuple:\n",
    "    \"\"\"\n",
    "    Função destinada a calcular as velocidades que serão aplicadas sobre o robo\n",
    "    :param fx: força aplica sobre o eixo X\n",
    "    :param fy: força aplica sobre o eixo Y\n",
    "    :param theta: rotação do robo em radianos\n",
    "    :param maxv: velocidade máxima que desejamos empregar ao robo\n",
    "    :param maxw: ângulo máximo que desejamos ser capaz de rotacionar o robo\n",
    "    :param kr: constante aplicada ao cálculo da velociade\n",
    "    :param kt: constante aplicada ao cálculo da rotação\n",
    "    :return: velocidade linear e angular\n",
    "    \"\"\"\n",
    "    v = kr*(fx*np.cos(theta) + fy*np.sin(theta))\n",
    "    w = kt*(np.arctan2(fy,fx) - theta)\n",
    "\n",
    "    # Limit v,w to +/- max\n",
    "    v = max(min(v, maxv), -maxv)\n",
    "    w = max(min(w, maxw), -maxw)        \n",
    "    \n",
    "    return v, w\n",
    "\n",
    "def moveNonHolonomicWheels(leftWheel:int, rightWheel:int, v:float, w:float, L:float, r:float) -> None:\n",
    "    \"\"\"\n",
    "    Função destinada a mover as rodas do robo \n",
    "    :param rightWheel: handle para o motor da roda direita\n",
    "    :param leftWheel: handle para o motor da roda esquerda\n",
    "    :param v: velocidade linear\n",
    "    :param w: velocidade angular\n",
    "    :param L: largura do eixo (em metros)\n",
    "    :param r: raio roda (em metros)\n",
    "    :return: None\n",
    "    \"\"\"\n",
    "    vl = ((2.0*v) - (w*L))/(2.0*r)\n",
    "    vr = ((2.0*v) + (w*L))/(2.0*r)\n",
    "        \n",
    "    sim.setJointTargetVelocity(leftWheel, vl)\n",
    "    sim.setJointTargetVelocity(rightWheel, vr)\n",
    "\n",
    "def stopNonHolonomicWheels() -> None:\n",
    "    \"\"\"\n",
    "    Função destinada a para o robo\n",
    "    :param: None\n",
    "    :return: None\n",
    "    \"\"\"\n",
    "    robotname = '/Pioneer_p3dx'\n",
    "    leftWheel  = sim.getObject(f\"{robotname}{robotname}_leftMotor\")\n",
    "    rightWheel = sim.getObject(f\"{robotname}{robotname}_rightMotor\")\n",
    "\n",
    "    sim.setJointTargetVelocity(leftWheel, 0)\n",
    "    sim.setJointTargetVelocity(rightWheel, 0)\n",
    "\n",
    "def nonHolonomicControl(fx:float, fy:float, theta:float, leftWheel:int, rightWheel:int) -> None:\n",
    "    \"\"\"\n",
    "    Função destinada a levar o robo até certa posição\n",
    "    :param goal: \n",
    "    :param gain: \n",
    "    :param maxv: velocidade máxima que desejamos empregar ao robo\n",
    "    :param maxw: ângulo máximo que desejamos ser capaz de rotacionar o robo\n",
    "    :param kr: constante aplicada ao cálculo da velociade\n",
    "    :param kt: constante aplicada ao cálculo da rotação\n",
    "    :return: None\n",
    "    \"\"\"\n",
    "    # Específico do robô\n",
    "    L = 0.381\n",
    "    r = 0.0975\n",
    "\n",
    "    maxv = 1\n",
    "    maxw = np.deg2rad(45)\n",
    "\n",
    "    kr = 1\n",
    "    kt = 2\n",
    "    \n",
    "    # move o robô\n",
    "    v, w = calcNonHolonomicVelocity(fx, fy, theta, maxv, maxw, kr, kt)\n",
    "    moveNonHolonomicWheels(leftWheel, rightWheel, v, w, L, r)"
   ]
  },
  {
   "cell_type": "code",
   "execution_count": 26,
   "metadata": {},
   "outputs": [],
   "source": [
    "try:\n",
    "    # obtemos a posição do nosso goal\n",
    "    goal = sim.getObject('/ReferenceFrame')\n",
    "    goal = np.array([sim.getObjectPosition(goal)])\n",
    "\n",
    "    # define o raio de visão que iremos considerar do robô\n",
    "    R = 1.5\n",
    "    # coleta os handles do robô\n",
    "    robotname = '/Pioneer_p3dx'\n",
    "    robot = sim.getObject(robotname)    \n",
    "    leftWheel  = sim.getObject(f\"{robotname}{robotname}_leftMotor\")\n",
    "    rightWheel = sim.getObject(f\"{robotname}{robotname}_rightMotor\")\n",
    "\n",
    "\n",
    "    sim.startSimulation()\n",
    "    time.sleep(2)\n",
    "\n",
    "    rho = np.inf\n",
    "    while True:\n",
    "        robotPos = np.array([sim.getObjectPosition(robot)])\n",
    "        robotOri = np.array(sim.getObjectOrientation(robot))\n",
    "\n",
    "        qGoal = transform(robotPos, robotOri, goal).T[0,:2]\n",
    "\n",
    "        if np.linalg.norm(qGoal) < 0.1:\n",
    "            stopNonHolonomicWheels()\n",
    "            break\n",
    "\n",
    "        dist, angle = readSensorData()\n",
    "\n",
    "        finds = dist <= R\n",
    "        dist = dist[finds]\n",
    "        angle = angle[finds]\n",
    "\n",
    "        x, y = transformSensorData(dist, angle)\n",
    "        xy = np.dstack([x, y]).reshape(-1, 2)\n",
    "\n",
    "        F_att = attraction(qGoal, .06)\n",
    "        fx, fy = F_att\n",
    "\n",
    "        if np.any(finds):\n",
    "            F_rep = repulsion(xy, 0, krep=0.01)\n",
    "            fx += F_rep[:, 0].sum()\n",
    "            fy += F_rep[:, 1].sum()\n",
    "\n",
    "        nonHolonomicControl(fx, fy, 0, leftWheel, rightWheel)\n",
    "\n",
    "    sim.stopSimulation()\n",
    "finally:\n",
    "    stopNonHolonomicWheels()"
   ]
  }
 ],
 "metadata": {
  "kernelspec": {
   "display_name": "Python 3 (ipykernel)",
   "language": "python",
   "name": "python3"
  },
  "language_info": {
   "codemirror_mode": {
    "name": "ipython",
    "version": 3
   },
   "file_extension": ".py",
   "mimetype": "text/x-python",
   "name": "python",
   "nbconvert_exporter": "python",
   "pygments_lexer": "ipython3",
   "version": "3.11.4"
  }
 },
 "nbformat": 4,
 "nbformat_minor": 4
}
